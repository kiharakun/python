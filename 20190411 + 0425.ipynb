{
 "cells": [
  {
   "cell_type": "code",
   "execution_count": null,
   "metadata": {},
   "outputs": [],
   "source": [
    "#建立list、tuple、dict、sets\n",
    "list ,tuple , dict,sets\n",
    "list: [1,2,3] #可以在修改的串列\n",
    "tuple: (1,2,3) #不能再修改的串列\n",
    "dict:{1:\"apple\" , 2: \"banana\" , 3: \"orange\"}\n",
    "sets:{ apple ,banana,orange} #定義三個字串"
   ]
  },
  {
   "cell_type": "code",
   "execution_count": 3,
   "metadata": {},
   "outputs": [
    {
     "name": "stdout",
     "output_type": "stream",
     "text": [
      "[1, 2, 3]\n",
      "a\n",
      "['a', 'b', 'c', 'd']\n"
     ]
    }
   ],
   "source": [
    "#定義串列，添加串列\n",
    "my_list0= [1,2,3]\n",
    "print (my_list0)\n",
    "my_list1= ['a','b','c']\n",
    "print (my_list1[0])\n",
    "my_list1.append('d') #添加串列，在最裡面\n",
    "print (my_list1)"
   ]
  },
  {
   "cell_type": "code",
   "execution_count": 7,
   "metadata": {},
   "outputs": [
    {
     "name": "stdout",
     "output_type": "stream",
     "text": [
      "3\n",
      "2\n"
     ]
    }
   ],
   "source": [
    "#輸出串列長度\n",
    "my_list2=['a','ba','cqe']\n",
    "print(len(my_list2)) #輸出串列長度\n",
    "print(len(my_list2[1]))"
   ]
  },
  {
   "cell_type": "code",
   "execution_count": 10,
   "metadata": {},
   "outputs": [
    {
     "name": "stdout",
     "output_type": "stream",
     "text": [
      "['ba', 'cqe', 'qth']\n",
      "['ba', 'cqe']\n",
      "['ba']\n"
     ]
    }
   ],
   "source": [
    "#串列移除\n",
    "my_list3=['a','ba','cqe','qth']\n",
    "my_list3.remove('a') #移除字串a\n",
    "print(my_list3)\n",
    "del my_list3[2] #移除第三個字串\n",
    "print(my_list3)\n",
    "del my_list3[-1] #移除最後一個字串\n",
    "print(my_list3)"
   ]
  },
  {
   "cell_type": "code",
   "execution_count": 11,
   "metadata": {},
   "outputs": [
    {
     "name": "stdout",
     "output_type": "stream",
     "text": [
      "[1, 2, 1, 2, 1, 2, 1, 2, 1, 2]\n"
     ]
    }
   ],
   "source": [
    "a=[1,2]\n",
    "print(a*5) #串列相乘"
   ]
  },
  {
   "cell_type": "code",
   "execution_count": 13,
   "metadata": {},
   "outputs": [
    {
     "name": "stdout",
     "output_type": "stream",
     "text": [
      "True\n"
     ]
    }
   ],
   "source": [
    "print('a' in ['a','ba','cqe','qth']) #判斷a是否在此串列中"
   ]
  },
  {
   "cell_type": "code",
   "execution_count": 15,
   "metadata": {},
   "outputs": [
    {
     "name": "stdout",
     "output_type": "stream",
     "text": [
      "[1, 2, 3]\n",
      "[1, 3, 5, 7, 9]\n",
      "[1, 2, 3, 4, 5, 6, 7]\n",
      "7\n",
      "1\n",
      "0\n",
      "1\n"
     ]
    }
   ],
   "source": [
    "#串列相關輸出，最大最小、字串長度、剩餘數字\n",
    "a=[1,2,3,4,5,6,7,8,9]\n",
    "b=a[0:3] #0～2個在串列內的數字\n",
    "print(b)\n",
    "c=a[0:9:2] #隔一個數字，0～9的數字\n",
    "print(c)\n",
    "del a[7:9] #刪除8、9兩個數字(7～9不含9)\n",
    "print(a)\n",
    "print(max(a)) #輸出串列中最大的值\n",
    "print(min(a)) #輸出串列中最小的值\n",
    "print(a.index(1)) #輸出串列的長度\n",
    "print(a.count(1)) #輸出串列中剩幾個數字"
   ]
  },
  {
   "cell_type": "code",
   "execution_count": 16,
   "metadata": {},
   "outputs": [
    {
     "name": "stdout",
     "output_type": "stream",
     "text": [
      "[7, 6, 5, 4, 3, 2, 1]\n",
      "[1, 2, 3, 4, 5, 6, 7]\n"
     ]
    }
   ],
   "source": [
    "#串列反轉與排序\n",
    "a.reverse() #串列反轉\n",
    "print(a)\n",
    "a.sort() #串列排序\n",
    "print(a)"
   ]
  },
  {
   "cell_type": "code",
   "execution_count": 17,
   "metadata": {},
   "outputs": [
    {
     "name": "stdout",
     "output_type": "stream",
     "text": [
      "123\n",
      "abc\n",
      "[111, 222]\n",
      "222\n"
     ]
    }
   ],
   "source": [
    "a=[123,'abc',[111,222],[333,444]]\n",
    "print(a[0]) #輸出串列[0]\n",
    "print(a[1]) #輸出串列[1]\n",
    "print(a[2]) #輸出串列[2]\n",
    "print(a[2][1])  #輸出串列[2]中的[1]"
   ]
  },
  {
   "cell_type": "code",
   "execution_count": 26,
   "metadata": {},
   "outputs": [
    {
     "name": "stdout",
     "output_type": "stream",
     "text": [
      "a\n",
      "ba\n",
      "cqe\n",
      "qth\n"
     ]
    }
   ],
   "source": [
    "#用迴圈依序輸出串列內的值\n",
    "shoplist= ['a','ba','cqe','qth']\n",
    "for item in shoplist: #用for迴圈依序輸出\n",
    "    print(item)"
   ]
  },
  {
   "cell_type": "code",
   "execution_count": 29,
   "metadata": {},
   "outputs": [
    {
     "name": "stdout",
     "output_type": "stream",
     "text": [
      "<class 'list'>\n",
      "<class 'tuple'>\n",
      "('a', 'ba', 'cqe', 'qth')\n"
     ]
    }
   ],
   "source": [
    "#定義和輸出list和tuple\n",
    "a_list=['a','ba','cqe','qth'] #list：可以再修改的串列\n",
    "a_tuple=('a','ba','cqe','qth') #不能再修改的串列\n",
    "b_tuple=tuple(a_list)\n",
    "print(type(a_list))\n",
    "print(type(a_tuple))\n",
    "print(b_tuple)"
   ]
  },
  {
   "cell_type": "code",
   "execution_count": 31,
   "metadata": {},
   "outputs": [
    {
     "name": "stdout",
     "output_type": "stream",
     "text": [
      "(111, 222, 333)\n",
      "<class 'tuple'>\n"
     ]
    }
   ],
   "source": [
    "#定義及求tuple的型態\n",
    "c_tuple=111,222,333 #定義tuple不用括起來\n",
    "print(c_tuple)\n",
    "print(type(c_tuple)) #球tuple的型態"
   ]
  },
  {
   "cell_type": "code",
   "execution_count": 32,
   "metadata": {},
   "outputs": [
    {
     "name": "stdout",
     "output_type": "stream",
     "text": [
      "a\n",
      "a\n",
      "a\n"
     ]
    }
   ],
   "source": [
    "定義list，利用dict找出串列內的值\n",
    "a_list=['a','ba','cqe']\n",
    "a_dict={0:'a',1:'ba', 2:'cqe'} #用dict可以把串列內的字串定義名稱\n",
    "print(a_list[0])\n",
    "print(a_dict[0])\n",
    "b_dict={'0':'a','1':'ba', '2':'cqe'}\n",
    "print(b_dict['0'])"
   ]
  },
  {
   "cell_type": "code",
   "execution_count": null,
   "metadata": {},
   "outputs": [],
   "source": []
  }
 ],
 "metadata": {
  "kernelspec": {
   "display_name": "Python 3",
   "language": "python",
   "name": "python3"
  },
  "language_info": {
   "codemirror_mode": {
    "name": "ipython",
    "version": 3
   },
   "file_extension": ".py",
   "mimetype": "text/x-python",
   "name": "python",
   "nbconvert_exporter": "python",
   "pygments_lexer": "ipython3",
   "version": "3.7.3"
  }
 },
 "nbformat": 4,
 "nbformat_minor": 2
}
