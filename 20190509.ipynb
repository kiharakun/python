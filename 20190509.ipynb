{
 "cells": [
  {
   "cell_type": "code",
   "execution_count": 2,
   "metadata": {},
   "outputs": [
    {
     "name": "stdout",
     "output_type": "stream",
     "text": [
      "請輸入攝氏溫度:20\n",
      "華氏溫度為:68.0\n"
     ]
    }
   ],
   "source": [
    "c=float(input('請輸入攝氏溫度:'))\n",
    "f=(9/5) * c +32\n",
    "print('華氏溫度為:' +str(f) )"
   ]
  },
  {
   "cell_type": "code",
   "execution_count": 11,
   "metadata": {},
   "outputs": [
    {
     "name": "stdout",
     "output_type": "stream",
     "text": [
      "樣本= [5, 8, 9, 6, 4, 1, 2, 3, 5, 6]\n",
      "平均數= 4.9\n",
      "最大數= 9\n",
      "最小數= 1\n",
      "變異數= 6.32\n",
      "標準差= 2.51\n"
     ]
    }
   ],
   "source": [
    "import statistics as st \n",
    "sample =[5,8,9,6,4,1,2,3,5,6]\n",
    "print('樣本=' , sample)\n",
    "print('平均數=' , st.mean(sample))\n",
    "print('最大數=' , max(sample))\n",
    "print('最小數=' , min(sample))\n",
    "print('變異數=' , round(st.variance(sample),2))\n",
    "print('標準差=' , round(st.stdev(sample),2))"
   ]
  },
  {
   "cell_type": "code",
   "execution_count": 18,
   "metadata": {},
   "outputs": [
    {
     "name": "stdout",
     "output_type": "stream",
     "text": [
      "請輸入numA:5\n",
      "請輸入numb:4\n",
      "num A是比較大的數\n"
     ]
    }
   ],
   "source": [
    "numA = int(input('請輸入numA:'))\n",
    "numB = int(input('請輸入numb:'))\n",
    "if numA < numB:\n",
    "    print('num B是比較大的數')\n",
    "elif: numA > numB:\n",
    "    print('num A是比較大的數')\n",
    "else:\n",
    "     print('相等')"
   ]
  },
  {
   "cell_type": "code",
   "execution_count": 19,
   "metadata": {},
   "outputs": [
    {
     "name": "stdout",
     "output_type": "stream",
     "text": [
      "55\n"
     ]
    }
   ],
   "source": [
    "sum=0\n",
    "for i in range (1,11):\n",
    "    sum=sum + i\n",
    "print (sum)"
   ]
  },
  {
   "cell_type": "code",
   "execution_count": 23,
   "metadata": {},
   "outputs": [
    {
     "name": "stdout",
     "output_type": "stream",
     "text": [
      "49\n"
     ]
    }
   ],
   "source": [
    "sample =[5,8,9,6,4,1,2,3,5,6]\n",
    "sum=0\n",
    "for i in sample :\n",
    "    sum=sum+i\n",
    "print(sum)"
   ]
  },
  {
   "cell_type": "code",
   "execution_count": 26,
   "metadata": {},
   "outputs": [
    {
     "name": "stdout",
     "output_type": "stream",
     "text": [
      "I\n",
      " \n",
      "l\n",
      "o\n",
      "v\n",
      "e\n",
      " \n",
      "A\n",
      "v\n",
      "e\n",
      "n\n",
      "g\n",
      "e\n",
      "r\n",
      "s\n",
      " \n",
      "I\n",
      "V\n"
     ]
    }
   ],
   "source": [
    "mylist='I love Avengers IV'\n",
    "for character in mylist:\n",
    "    print(character)"
   ]
  },
  {
   "cell_type": "markdown",
   "metadata": {},
   "source": [
    "# Chap3"
   ]
  },
  {
   "cell_type": "markdown",
   "metadata": {},
   "source": [
    "# While 迴圈"
   ]
  },
  {
   "cell_type": "code",
   "execution_count": 2,
   "metadata": {},
   "outputs": [
    {
     "name": "stdout",
     "output_type": "stream",
     "text": [
      "55\n"
     ]
    }
   ],
   "source": [
    "sum=0\n",
    "count=1;\n",
    "while count<=10:\n",
    "    sum=sum+count\n",
    "    count+=1\n",
    "print(sum)"
   ]
  },
  {
   "cell_type": "markdown",
   "metadata": {},
   "source": [
    "# 銀行利息範例"
   ]
  },
  {
   "cell_type": "code",
   "execution_count": 6,
   "metadata": {},
   "outputs": [
    {
     "name": "stdout",
     "output_type": "stream",
     "text": [
      "67\n"
     ]
    }
   ],
   "source": [
    "x=10000\n",
    "year=0\n",
    "while x<20000:\n",
    "    year+=1\n",
    "    x=x*1.0104\n",
    "print(str(year))"
   ]
  },
  {
   "cell_type": "code",
   "execution_count": 23,
   "metadata": {},
   "outputs": [
    {
     "name": "stdout",
     "output_type": "stream",
     "text": [
      "帳號:a\n",
      "密碼:1\n",
      "歡迎登入\n"
     ]
    }
   ],
   "source": [
    "id='a'\n",
    "pwd='1'\n",
    "while True:\n",
    "    x=input('帳號:')\n",
    "    y=input('密碼:')\n",
    "    if(x==id and y==pwd):\n",
    "        print('歡迎登入')\n",
    "        break\n",
    "    else:\n",
    "        print('錯誤')"
   ]
  },
  {
   "cell_type": "markdown",
   "metadata": {},
   "source": [
    "# 上面 簡單帳號密碼"
   ]
  },
  {
   "cell_type": "markdown",
   "metadata": {},
   "source": [
    "# break continue pass 範例"
   ]
  },
  {
   "cell_type": "code",
   "execution_count": 24,
   "metadata": {},
   "outputs": [
    {
     "name": "stdout",
     "output_type": "stream",
     "text": [
      "1\n",
      "2\n",
      "1\n",
      "2\n",
      "4\n",
      "1\n",
      "2\n",
      "4\n"
     ]
    }
   ],
   "source": [
    "mylist=['1','2','3','4']\n",
    "for i  in mylist:\n",
    "    if i=='3':\n",
    "        break\n",
    "    else:\n",
    "        print(i)\n",
    "\n",
    "mylist=['1','2','3','4']\n",
    "for i  in mylist:\n",
    "    if i=='3':\n",
    "        continue\n",
    "    else:\n",
    "        print(i)\n",
    "\n",
    "        \n",
    "mylist=['1','2','3','4']\n",
    "for i in mylist:\n",
    "    if i=='3':\n",
    "         pass\n",
    "    else:\n",
    "        print(i)"
   ]
  },
  {
   "cell_type": "code",
   "execution_count": 26,
   "metadata": {},
   "outputs": [
    {
     "name": "stdout",
     "output_type": "stream",
     "text": [
      "0.24198633347975562\n",
      "0.08750738401169567\n",
      "0.2798255568437523\n",
      "0.8503760688161551\n",
      "0.6791910985790224\n",
      "0.3902887809286534\n",
      "0.9041903454187808\n",
      "0.7895695116077004\n",
      "0.5822278197580587\n",
      "0.34638274686260917\n"
     ]
    }
   ],
   "source": [
    "import random\n",
    "for i in range(0,10):\n",
    "    print(random.random())"
   ]
  },
  {
   "cell_type": "code",
   "execution_count": 29,
   "metadata": {},
   "outputs": [
    {
     "name": "stdout",
     "output_type": "stream",
     "text": [
      "8\n",
      "2\n",
      "2\n",
      "4\n",
      "3\n",
      "7\n",
      "5\n",
      "7\n",
      "7\n",
      "9\n"
     ]
    }
   ],
   "source": [
    "for i in range(0,10):\n",
    "    print(random.randint(1,9))"
   ]
  }
 ],
 "metadata": {
  "kernelspec": {
   "display_name": "Python 3",
   "language": "python",
   "name": "python3"
  },
  "language_info": {
   "codemirror_mode": {
    "name": "ipython",
    "version": 3
   },
   "file_extension": ".py",
   "mimetype": "text/x-python",
   "name": "python",
   "nbconvert_exporter": "python",
   "pygments_lexer": "ipython3",
   "version": "3.7.1"
  }
 },
 "nbformat": 4,
 "nbformat_minor": 2
}
