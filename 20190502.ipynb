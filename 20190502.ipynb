{
 "cells": [
  {
   "cell_type": "code",
   "execution_count": 2,
   "metadata": {},
   "outputs": [
    {
     "name": "stdout",
     "output_type": "stream",
     "text": [
      "請輸入攝氏溫度:20\n",
      "華氏溫度為:68.0\n"
     ]
    }
   ],
   "source": [
    "c=float(input('請輸入攝氏溫度:'))\n",
    "f=(9/5) * c +32\n",
    "print('華氏溫度為:' +str(f) )"
   ]
  },
  {
   "cell_type": "code",
   "execution_count": 11,
   "metadata": {},
   "outputs": [
    {
     "name": "stdout",
     "output_type": "stream",
     "text": [
      "樣本= [5, 8, 9, 6, 4, 1, 2, 3, 5, 6]\n",
      "平均數= 4.9\n",
      "最大數= 9\n",
      "最小數= 1\n",
      "變異數= 6.32\n",
      "標準差= 2.51\n"
     ]
    }
   ],
   "source": [
    "import statistics as st \n",
    "sample =[5,8,9,6,4,1,2,3,5,6]\n",
    "print('樣本=' , sample)\n",
    "print('平均數=' , st.mean(sample))\n",
    "print('最大數=' , max(sample))\n",
    "print('最小數=' , min(sample))\n",
    "print('變異數=' , round(st.variance(sample),2))\n",
    "print('標準差=' , round(st.stdev(sample),2))"
   ]
  },
  {
   "cell_type": "code",
   "execution_count": 18,
   "metadata": {},
   "outputs": [
    {
     "name": "stdout",
     "output_type": "stream",
     "text": [
      "請輸入numA:5\n",
      "請輸入numb:4\n",
      "num A是比較大的數\n"
     ]
    }
   ],
   "source": [
    "numA = int(input('請輸入numA:'))\n",
    "numB = int(input('請輸入numb:'))\n",
    "if numA < numB:\n",
    "    print('num B是比較大的數')\n",
    "elif: numA > numB:\n",
    "    print('num A是比較大的數')\n",
    "else:\n",
    "     print('相等')"
   ]
  },
  {
   "cell_type": "code",
   "execution_count": 19,
   "metadata": {},
   "outputs": [
    {
     "name": "stdout",
     "output_type": "stream",
     "text": [
      "55\n"
     ]
    }
   ],
   "source": [
    "sum=0\n",
    "for i in range (1,11):\n",
    "    sum=sum + i\n",
    "print (sum)"
   ]
  },
  {
   "cell_type": "code",
   "execution_count": 23,
   "metadata": {},
   "outputs": [
    {
     "name": "stdout",
     "output_type": "stream",
     "text": [
      "49\n"
     ]
    }
   ],
   "source": [
    "sample =[5,8,9,6,4,1,2,3,5,6]\n",
    "sum=0\n",
    "for i in sample :\n",
    "    sum=sum+i\n",
    "print(sum)"
   ]
  },
  {
   "cell_type": "code",
   "execution_count": null,
   "metadata": {},
   "outputs": [],
   "source": []
  },
  {
   "cell_type": "code",
   "execution_count": 26,
   "metadata": {},
   "outputs": [
    {
     "name": "stdout",
     "output_type": "stream",
     "text": [
      "I\n",
      " \n",
      "l\n",
      "o\n",
      "v\n",
      "e\n",
      " \n",
      "A\n",
      "v\n",
      "e\n",
      "n\n",
      "g\n",
      "e\n",
      "r\n",
      "s\n",
      " \n",
      "I\n",
      "V\n"
     ]
    }
   ],
   "source": [
    "mylist='I love Avengers IV'\n",
    "for character in mylist:\n",
    "    print(character)"
   ]
  },
  {
   "cell_type": "code",
   "execution_count": null,
   "metadata": {},
   "outputs": [],
   "source": []
  }
 ],
 "metadata": {
  "kernelspec": {
   "display_name": "Python 3",
   "language": "python",
   "name": "python3"
  },
  "language_info": {
   "codemirror_mode": {
    "name": "ipython",
    "version": 3
   },
   "file_extension": ".py",
   "mimetype": "text/x-python",
   "name": "python",
   "nbconvert_exporter": "python",
   "pygments_lexer": "ipython3",
   "version": "3.7.1"
  }
 },
 "nbformat": 4,
 "nbformat_minor": 2
}
