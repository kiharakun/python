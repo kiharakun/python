{
 "cells": [
  {
   "cell_type": "markdown",
   "metadata": {},
   "source": [
    "Pandas Data Frame"
   ]
  },
  {
   "cell_type": "code",
   "execution_count": 4,
   "metadata": {},
   "outputs": [
    {
     "data": {
      "text/html": [
       "<div>\n",
       "<style scoped>\n",
       "    .dataframe tbody tr th:only-of-type {\n",
       "        vertical-align: middle;\n",
       "    }\n",
       "\n",
       "    .dataframe tbody tr th {\n",
       "        vertical-align: top;\n",
       "    }\n",
       "\n",
       "    .dataframe thead th {\n",
       "        text-align: right;\n",
       "    }\n",
       "</style>\n",
       "<table border=\"1\" class=\"dataframe\">\n",
       "  <thead>\n",
       "    <tr style=\"text-align: right;\">\n",
       "      <th></th>\n",
       "      <th>groups</th>\n",
       "      <th>iromen</th>\n",
       "    </tr>\n",
       "  </thead>\n",
       "  <tbody>\n",
       "    <tr>\n",
       "      <th>0</th>\n",
       "      <td>Modern Web</td>\n",
       "      <td>56</td>\n",
       "    </tr>\n",
       "    <tr>\n",
       "      <th>1</th>\n",
       "      <td>DevOps</td>\n",
       "      <td>8</td>\n",
       "    </tr>\n",
       "    <tr>\n",
       "      <th>2</th>\n",
       "      <td>Cloud</td>\n",
       "      <td>19</td>\n",
       "    </tr>\n",
       "    <tr>\n",
       "      <th>3</th>\n",
       "      <td>big Data</td>\n",
       "      <td>14</td>\n",
       "    </tr>\n",
       "    <tr>\n",
       "      <th>4</th>\n",
       "      <td>security</td>\n",
       "      <td>6</td>\n",
       "    </tr>\n",
       "    <tr>\n",
       "      <th>5</th>\n",
       "      <td>自我挑戰組</td>\n",
       "      <td>71</td>\n",
       "    </tr>\n",
       "  </tbody>\n",
       "</table>\n",
       "</div>"
      ],
      "text/plain": [
       "       groups  iromen\n",
       "0  Modern Web      56\n",
       "1      DevOps       8\n",
       "2       Cloud      19\n",
       "3    big Data      14\n",
       "4    security       6\n",
       "5       自我挑戰組      71"
      ]
     },
     "execution_count": 4,
     "metadata": {},
     "output_type": "execute_result"
    }
   ],
   "source": [
    "import pandas as pd\n",
    "groups=[\"Modern Web\" , \"DevOps\" , \"Cloud\" , \"big Data\" , \"security\",\"自我挑戰組\" ]\n",
    "iromen=[56,8,19,14,6,71]\n",
    "iromen_dict ={\n",
    "     \"groups\" :groups,\n",
    "    \"iromen\" :iromen\n",
    "}\n",
    "iromen_df = pd.DataFrame(iromen_dict)\n",
    "iromen_df "
   ]
  },
  {
   "cell_type": "code",
   "execution_count": 5,
   "metadata": {},
   "outputs": [
    {
     "name": "stdout",
     "output_type": "stream",
     "text": [
      "2\n",
      "(6, 2)\n",
      "groups    object\n",
      "iromen     int64\n",
      "dtype: object\n"
     ]
    }
   ],
   "source": [
    "print(iromen_df.ndim)\n",
    "print(iromen_df.shape)\n",
    "print(iromen_df.dtypes)"
   ]
  },
  {
   "cell_type": "code",
   "execution_count": 10,
   "metadata": {},
   "outputs": [
    {
     "name": "stdout",
     "output_type": "stream",
     "text": [
      "groups    Modern WebDevOpsCloudbig Datasecurity自我挑戰組\n",
      "iromen                                           174\n",
      "dtype: object\n",
      "\n",
      "\n",
      "174\n",
      "\n",
      "\n",
      "iromen    29.0\n",
      "dtype: float64\n",
      "\n",
      "\n",
      "<bound method DataFrame.median of        groups  iromen\n",
      "0  Modern Web      56\n",
      "1      DevOps       8\n",
      "2       Cloud      19\n",
      "3    big Data      14\n",
      "4    security       6\n",
      "5       自我挑戰組      71>\n",
      "\n",
      "\n",
      "<bound method NDFrame.describe of        groups  iromen\n",
      "0  Modern Web      56\n",
      "1      DevOps       8\n",
      "2       Cloud      19\n",
      "3    big Data      14\n",
      "4    security       6\n",
      "5       自我挑戰組      71>\n"
     ]
    }
   ],
   "source": [
    "print(iromen_df.sum())\n",
    "print(\"\\n\")\n",
    "print(iromen_df.iromen.sum())\n",
    "print(\"\\n\")\n",
    "print(iromen_df.mean())\n",
    "print(\"\\n\")\n",
    "print(iromen_df.median)\n",
    "print(\"\\n\")\n",
    "print(iromen_df.describe)"
   ]
  },
  {
   "cell_type": "code",
   "execution_count": 12,
   "metadata": {},
   "outputs": [
    {
     "name": "stdout",
     "output_type": "stream",
     "text": [
      "0    False\n",
      "1    False\n",
      "2     True\n",
      "3    False\n",
      "4    False\n",
      "5    False\n",
      "Name: groups, dtype: bool\n",
      "0     True\n",
      "1     True\n",
      "2     True\n",
      "3     True\n",
      "4     True\n",
      "5    False\n",
      "Name: iromen, dtype: bool\n"
     ]
    }
   ],
   "source": [
    "import pandas as pd\n",
    "import numpy as np\n",
    "groups=[\"Modern Web\" , \"DevOps\" , np.nan , \"big Data\" , \"security\",\"自我挑戰組\" ]\n",
    "iromen=[56,8,19,14,6,np.nan]\n",
    "iromen_dict ={\n",
    "     \"groups\" :groups,\n",
    "    \"iromen\" :iromen\n",
    "}\n",
    "iromen_df = pd.DataFrame(iromen_dict)\n",
    "print(iromen_df.loc[:,  \"groups\"].isnull()) #判斷那些組的組名是遺失值\n",
    "print(iromen_df.loc[:,  \"iromen\"].notnull()) #判斷那些組的鐵人數不是遺失值"
   ]
  },
  {
   "cell_type": "code",
   "execution_count": 18,
   "metadata": {},
   "outputs": [],
   "source": [
    "a=iromen_df.dropna()\n",
    "b=iromen_df.fillna(0)\n",
    "c=iromen_df.iromen.fillna(iromen_df.iromen.mean())"
   ]
  },
  {
   "cell_type": "code",
   "execution_count": 17,
   "metadata": {},
   "outputs": [
    {
     "data": {
      "text/html": [
       "<div>\n",
       "<style scoped>\n",
       "    .dataframe tbody tr th:only-of-type {\n",
       "        vertical-align: middle;\n",
       "    }\n",
       "\n",
       "    .dataframe tbody tr th {\n",
       "        vertical-align: top;\n",
       "    }\n",
       "\n",
       "    .dataframe thead th {\n",
       "        text-align: right;\n",
       "    }\n",
       "</style>\n",
       "<table border=\"1\" class=\"dataframe\">\n",
       "  <thead>\n",
       "    <tr style=\"text-align: right;\">\n",
       "      <th></th>\n",
       "      <th>iromen</th>\n",
       "    </tr>\n",
       "  </thead>\n",
       "  <tbody>\n",
       "    <tr>\n",
       "      <th>Cloud</th>\n",
       "      <td>19</td>\n",
       "    </tr>\n",
       "    <tr>\n",
       "      <th>DevOps</th>\n",
       "      <td>8</td>\n",
       "    </tr>\n",
       "    <tr>\n",
       "      <th>Modern Web</th>\n",
       "      <td>56</td>\n",
       "    </tr>\n",
       "    <tr>\n",
       "      <th>big Data</th>\n",
       "      <td>14</td>\n",
       "    </tr>\n",
       "    <tr>\n",
       "      <th>security</th>\n",
       "      <td>6</td>\n",
       "    </tr>\n",
       "    <tr>\n",
       "      <th>自我挑戰組</th>\n",
       "      <td>71</td>\n",
       "    </tr>\n",
       "  </tbody>\n",
       "</table>\n",
       "</div>"
      ],
      "text/plain": [
       "            iromen\n",
       "Cloud           19\n",
       "DevOps           8\n",
       "Modern Web      56\n",
       "big Data        14\n",
       "security         6\n",
       "自我挑戰組           71"
      ]
     },
     "execution_count": 17,
     "metadata": {},
     "output_type": "execute_result"
    }
   ],
   "source": [
    "import pandas as pd\n",
    "groups=[\"Modern Web\" , \"DevOps\" , \"Cloud\" , \"big Data\" , \"security\",\"自我挑戰組\" ]\n",
    "iromen=[56,8,19,14,6,71]\n",
    "#建立data frame\n",
    "iromen_df = pd.DataFrame(iromen, columns = [\"iromen\"],index = groups)\n",
    "iromen_df.sort_index()"
   ]
  },
  {
   "cell_type": "code",
   "execution_count": 19,
   "metadata": {},
   "outputs": [
    {
     "data": {
      "text/html": [
       "<div>\n",
       "<style scoped>\n",
       "    .dataframe tbody tr th:only-of-type {\n",
       "        vertical-align: middle;\n",
       "    }\n",
       "\n",
       "    .dataframe tbody tr th {\n",
       "        vertical-align: top;\n",
       "    }\n",
       "\n",
       "    .dataframe thead th {\n",
       "        text-align: right;\n",
       "    }\n",
       "</style>\n",
       "<table border=\"1\" class=\"dataframe\">\n",
       "  <thead>\n",
       "    <tr style=\"text-align: right;\">\n",
       "      <th></th>\n",
       "      <th>iromen</th>\n",
       "    </tr>\n",
       "  </thead>\n",
       "  <tbody>\n",
       "    <tr>\n",
       "      <th>security</th>\n",
       "      <td>6</td>\n",
       "    </tr>\n",
       "    <tr>\n",
       "      <th>DevOps</th>\n",
       "      <td>8</td>\n",
       "    </tr>\n",
       "    <tr>\n",
       "      <th>big Data</th>\n",
       "      <td>14</td>\n",
       "    </tr>\n",
       "    <tr>\n",
       "      <th>Cloud</th>\n",
       "      <td>19</td>\n",
       "    </tr>\n",
       "    <tr>\n",
       "      <th>Modern Web</th>\n",
       "      <td>56</td>\n",
       "    </tr>\n",
       "    <tr>\n",
       "      <th>自我挑戰組</th>\n",
       "      <td>71</td>\n",
       "    </tr>\n",
       "  </tbody>\n",
       "</table>\n",
       "</div>"
      ],
      "text/plain": [
       "            iromen\n",
       "security         6\n",
       "DevOps           8\n",
       "big Data        14\n",
       "Cloud           19\n",
       "Modern Web      56\n",
       "自我挑戰組           71"
      ]
     },
     "execution_count": 19,
     "metadata": {},
     "output_type": "execute_result"
    }
   ],
   "source": [
    "iromen_df.sort_values(by=\"iromen\")"
   ]
  },
  {
   "cell_type": "code",
   "execution_count": null,
   "metadata": {},
   "outputs": [],
   "source": []
  }
 ],
 "metadata": {
  "kernelspec": {
   "display_name": "Python 3",
   "language": "python",
   "name": "python3"
  },
  "language_info": {
   "codemirror_mode": {
    "name": "ipython",
    "version": 3
   },
   "file_extension": ".py",
   "mimetype": "text/x-python",
   "name": "python",
   "nbconvert_exporter": "python",
   "pygments_lexer": "ipython3",
   "version": "3.7.1"
  }
 },
 "nbformat": 4,
 "nbformat_minor": 2
}
